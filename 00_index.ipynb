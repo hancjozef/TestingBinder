{
 "cells": [
  {
   "cell_type": "markdown",
   "metadata": {},
   "source": [
    "# Triky a nápady\n",
    "\n",
    "\n",
    "##  Obsah \n",
    "- Sage: [premenné, funkcie, polynómy, zlomky](#Sage-8.2)\n",
    "- Sage: [presnosť](#precision), [Chop funkcia](#Chop-funkcia)\n",
    "- Sympy: [exponenciálne rovnice](#Sympy)\n",
    "- Python: [inštalácia Jupytera a knižníc](#Python-2,3-kernel)\n",
    "- Python: [spustenie externého .py kódu, automatický import knižníc](#Running-Python-code-from-.py-file)\n",
    "- Sage, Python: [automatický import knižníc](#Running-Python-code-from-.py-file)\n",
    "- Markdown: [Latex, Markdown, print, show](#Latex,-Markdown)\n",
    "- Jupyter: [Jupyter formatting, media, paper](#Jupyter-formatting)\n",
    "- Jupyter: [Jupyter nbextensions](#Jupyter-extensions)\n",
    "- Markdown: [Tvorba obsahu](#Tvorba-obsahu)\n",
    "- Python: [Printing to file](#Printing-to-file)"
   ]
  }
 ],
 "metadata": {
  "kernelspec": {
   "display_name": "Python 2",
   "language": "python",
   "name": "python2"
  },
  "language_info": {
   "codemirror_mode": {
    "name": "ipython",
    "version": 2
   },
   "file_extension": ".py",
   "mimetype": "text/x-python",
   "name": "python",
   "nbconvert_exporter": "python",
   "pygments_lexer": "ipython2",
   "version": "2.7.14"
  },
  "varInspector": {
   "cols": {
    "lenName": 16,
    "lenType": 16,
    "lenVar": 40
   },
   "kernels_config": {
    "python": {
     "delete_cmd_postfix": "",
     "delete_cmd_prefix": "del ",
     "library": "var_list.py",
     "varRefreshCmd": "print(var_dic_list())"
    },
    "r": {
     "delete_cmd_postfix": ") ",
     "delete_cmd_prefix": "rm(",
     "library": "var_list.r",
     "varRefreshCmd": "cat(var_dic_list()) "
    }
   },
   "types_to_exclude": [
    "module",
    "function",
    "builtin_function_or_method",
    "instance",
    "_Feature"
   ],
   "window_display": false
  }
 },
 "nbformat": 4,
 "nbformat_minor": 2
}
