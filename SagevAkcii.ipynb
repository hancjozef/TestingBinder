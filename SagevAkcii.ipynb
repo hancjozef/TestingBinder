{
 "cells": [
  {
   "cell_type": "markdown",
   "metadata": {},
   "source": [
    "# <font color = blue> Sage v akcii <font>"
   ]
  },
  {
   "cell_type": "markdown",
   "metadata": {},
   "source": [
    "## Modelovanie"
   ]
  },
  {
   "cell_type": "markdown",
   "metadata": {},
   "source": [
    "### Numerický popis (tabuľka) a modelovanie (vzorce)\n",
    "\n",
    "- zvuková karta - nahrávka cvrlikania\n",
    " - aplikácia WavePad (záznam, audioanalýza)\n",
    " - aplikácia Thermometer (vzdialené meranie teploty)"
   ]
  },
  {
   "cell_type": "code",
   "execution_count": 1,
   "metadata": {},
   "outputs": [],
   "source": [
    "# Výsledky merania a výpočtu frekvencie za 60 sekúnd\n",
    "tC = 14.5,20.5,29.0  #°C\n",
    "f60 = 72.1,118.0,174.0   # min^(-1)"
   ]
  },
  {
   "cell_type": "code",
   "execution_count": 2,
   "metadata": {},
   "outputs": [
    {
     "data": {
      "text/html": [
       "<div class=\"notruncate\">\n",
       "<table border=\"1\" class=\"table_form\">\n",
       "<tbody>\n",
       "<tr class =\"row-a\">\n",
       "<td><script type=\"math/tex\">14.5000000000000</script></td>\n",
       "<td><script type=\"math/tex\">72.1000000000000</script></td>\n",
       "</tr>\n",
       "<tr class =\"row-b\">\n",
       "<td><script type=\"math/tex\">20.5000000000000</script></td>\n",
       "<td><script type=\"math/tex\">118.000000000000</script></td>\n",
       "</tr>\n",
       "<tr class =\"row-a\">\n",
       "<td><script type=\"math/tex\">29.0000000000000</script></td>\n",
       "<td><script type=\"math/tex\">174.000000000000</script></td>\n",
       "</tr>\n",
       "</tbody>\n",
       "</table>\n",
       "</div>"
      ],
      "text/plain": [
       "+------------------+------------------+\n",
       "| 14.5000000000000 | 72.1000000000000 |\n",
       "+------------------+------------------+\n",
       "| 20.5000000000000 | 118.000000000000 |\n",
       "+------------------+------------------+\n",
       "| 29.0000000000000 | 174.000000000000 |\n",
       "+------------------+------------------+"
      ]
     },
     "metadata": {},
     "output_type": "display_data"
    }
   ],
   "source": [
    "data = zip(tC,f60)\n",
    "data\n",
    "datatab = table(data,frame=True)\n",
    "show(datatab)"
   ]
  },
  {
   "cell_type": "markdown",
   "metadata": {},
   "source": [
    "## Verifikácia modelu  - grafický popis\n",
    "![](dolbear.png)"
   ]
  },
  {
   "cell_type": "markdown",
   "metadata": {},
   "source": [
    "**Príkaz:** \n",
    "```python\n",
    "    solve(rovnica, premenná)\n",
    "    solve(rovnica, premenná).rhs()\n",
    "```"
   ]
  },
  {
   "cell_type": "code",
   "execution_count": 3,
   "metadata": {},
   "outputs": [
    {
     "data": {
      "text/plain": [
       "[f == 7*t - 30]"
      ]
     },
     "execution_count": 3,
     "metadata": {},
     "output_type": "execute_result"
    }
   ],
   "source": [
    "# kontrola \n",
    "t = var('t')\n",
    "f = var('f')\n",
    "solve(t == 10 + (f-40)/7, f)"
   ]
  },
  {
   "cell_type": "code",
   "execution_count": 4,
   "metadata": {},
   "outputs": [
    {
     "data": {
      "text/html": [
       "<html><script type=\"math/tex; mode=display\">\\newcommand{\\Bold}[1]{\\mathbf{#1}}\\left[f = 7 \\, t - 30\\right]</script></html>"
      ],
      "text/plain": [
       "[f == 7*t - 30]"
      ]
     },
     "metadata": {},
     "output_type": "display_data"
    }
   ],
   "source": [
    "show(_)"
   ]
  },
  {
   "cell_type": "markdown",
   "metadata": {},
   "source": [
    "**Kreslenie:** \n",
    "```python\n",
    "    plot(funkcia, odkiaľ, pokiaľ)\n",
    "    list_plot(body, veľkosť)\n",
    "```"
   ]
  },
  {
   "cell_type": "code",
   "execution_count": 5,
   "metadata": {},
   "outputs": [
    {
     "data": {
      "image/png": "[encoded data removed]",
      "text/plain": [
       "Graphics object consisting of 1 graphics primitive"
      ]
     },
     "metadata": {},
     "output_type": "display_data"
    }
   ],
   "source": [
    "g = list_plot(data, pointsize=50)\n",
    "g.show(figsize = (6,4))"
   ]
  }
 ],
 "metadata": {
  "kernelspec": {
   "display_name": "SageMath 8.3",
   "language": "",
   "name": "sagemath"
  },
  "language_info": {
   "codemirror_mode": {
    "name": "ipython",
    "version": 2
   },
   "file_extension": ".py",
   "mimetype": "text/x-python",
   "name": "python",
   "nbconvert_exporter": "python",
   "pygments_lexer": "ipython2",
   "version": "2.7.15"
  }
 },
 "nbformat": 4,
 "nbformat_minor": 1
}
